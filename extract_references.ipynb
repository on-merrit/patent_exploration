{
 "cells": [
  {
   "cell_type": "markdown",
   "source": [
    "# Explore extracting references\n",
    "In this notebook we will explore how to extract data from the raw google patents data.\n"
   ],
   "metadata": {
    "collapsed": false,
    "pycharm": {
     "name": "#%% md\n"
    }
   }
  },
  {
   "cell_type": "code",
   "execution_count": 20,
   "metadata": {
    "collapsed": true
   },
   "outputs": [],
   "source": [
    "import pandas as pd\n",
    "\n"
   ]
  },
  {
   "cell_type": "code",
   "execution_count": 47,
   "outputs": [],
   "source": [
    "patents = pd.read_csv(\"data/rand_npl.csv\", index_col=\"publication_number\", encoding='utf-8')\n",
    "\n",
    "\n"
   ],
   "metadata": {
    "collapsed": false,
    "pycharm": {
     "name": "#%%\n"
    }
   }
  },
  {
   "cell_type": "code",
   "execution_count": 7,
   "outputs": [
    {
     "data": {
      "text/plain": "                   country_code type  \\\npublication_number                     \nEP-1482288-B1                EP  NaN   \nEP-3134253-A4                EP  XPI   \nEP-1811026-B1                EP  NaN   \nEP-1901235-B1                EP  NaN   \nEP-2097241-B1                EP  NaN   \n\n                                                             npl_text  \\\npublication_number                                                      \nEP-1482288-B1       HILARY E SNELL ET AL: \"Fourier Transform Fabry...   \nEP-3134253-A4       ROBERT MACCURDY ET AL: \"Hybrid printing of pho...   \nEP-1811026-B1       Technical Bulletin; pCI and pSI Mammalian Expr...   \nEP-1901235-B1       VERGEEST J ET AL: \"Free-form surface copy and ...   \nEP-2097241-B1       BAETEN F ET AL: \"Barium titanate characterizat...   \n\n                        rand  \npublication_number            \nEP-1482288-B1       0.964252  \nEP-3134253-A4       0.102272  \nEP-1811026-B1       0.976539  \nEP-1901235-B1       0.202909  \nEP-2097241-B1       0.497251  ",
      "text/html": "<div>\n<style scoped>\n    .dataframe tbody tr th:only-of-type {\n        vertical-align: middle;\n    }\n\n    .dataframe tbody tr th {\n        vertical-align: top;\n    }\n\n    .dataframe thead th {\n        text-align: right;\n    }\n</style>\n<table border=\"1\" class=\"dataframe\">\n  <thead>\n    <tr style=\"text-align: right;\">\n      <th></th>\n      <th>country_code</th>\n      <th>type</th>\n      <th>npl_text</th>\n      <th>rand</th>\n    </tr>\n    <tr>\n      <th>publication_number</th>\n      <th></th>\n      <th></th>\n      <th></th>\n      <th></th>\n    </tr>\n  </thead>\n  <tbody>\n    <tr>\n      <th>EP-1482288-B1</th>\n      <td>EP</td>\n      <td>NaN</td>\n      <td>HILARY E SNELL ET AL: \"Fourier Transform Fabry...</td>\n      <td>0.964252</td>\n    </tr>\n    <tr>\n      <th>EP-3134253-A4</th>\n      <td>EP</td>\n      <td>XPI</td>\n      <td>ROBERT MACCURDY ET AL: \"Hybrid printing of pho...</td>\n      <td>0.102272</td>\n    </tr>\n    <tr>\n      <th>EP-1811026-B1</th>\n      <td>EP</td>\n      <td>NaN</td>\n      <td>Technical Bulletin; pCI and pSI Mammalian Expr...</td>\n      <td>0.976539</td>\n    </tr>\n    <tr>\n      <th>EP-1901235-B1</th>\n      <td>EP</td>\n      <td>NaN</td>\n      <td>VERGEEST J ET AL: \"Free-form surface copy and ...</td>\n      <td>0.202909</td>\n    </tr>\n    <tr>\n      <th>EP-2097241-B1</th>\n      <td>EP</td>\n      <td>NaN</td>\n      <td>BAETEN F ET AL: \"Barium titanate characterizat...</td>\n      <td>0.497251</td>\n    </tr>\n  </tbody>\n</table>\n</div>"
     },
     "execution_count": 7,
     "metadata": {},
     "output_type": "execute_result"
    }
   ],
   "source": [
    "patents.head(5)"
   ],
   "metadata": {
    "collapsed": false,
    "pycharm": {
     "name": "#%%\n"
    }
   }
  },
  {
   "cell_type": "code",
   "execution_count": 48,
   "outputs": [],
   "source": [
    "patents_clean = patents.drop(columns = ['rand'])"
   ],
   "metadata": {
    "collapsed": false,
    "pycharm": {
     "name": "#%%\n"
    }
   }
  },
  {
   "cell_type": "code",
   "execution_count": 17,
   "outputs": [
    {
     "data": {
      "text/plain": "EP    10000\nName: country_code, dtype: int64"
     },
     "execution_count": 17,
     "metadata": {},
     "output_type": "execute_result"
    }
   ],
   "source": [
    "# get an overview of cell content\n",
    "patents_clean['country_code'].value_counts()\n"
   ],
   "metadata": {
    "collapsed": false,
    "pycharm": {
     "name": "#%%\n"
    }
   }
  },
  {
   "cell_type": "code",
   "execution_count": 18,
   "outputs": [],
   "source": [
    "patents_clean = patents_clean.drop(columns = ['country_code'])"
   ],
   "metadata": {
    "collapsed": false,
    "pycharm": {
     "name": "#%%\n"
    }
   }
  },
  {
   "cell_type": "code",
   "execution_count": 19,
   "outputs": [
    {
     "data": {
      "text/plain": "A       1209\nY        428\nX        379\nXI       266\nI        217\nT        112\nXY        92\nXA        64\nXP        63\nXYI       55\nYA        54\nXAI       41\nAD        35\nIY        29\nAP        26\nYD        26\nIA        26\nIP        21\nXAY       12\nID         9\nXPI        8\nXAYI       6\nYP         6\nL          6\nXD         6\nXIY        4\nXDI        4\nP          3\nIAY        3\nPX         2\nXDYI       2\nDA         2\nXIA        2\nDX         1\nDXY        1\nXDY        1\nYPA        1\nXOP        1\nXPY        1\nXPYI       1\nYDA        1\nName: type, dtype: int64"
     },
     "execution_count": 19,
     "metadata": {},
     "output_type": "execute_result"
    }
   ],
   "source": [
    "patents_clean['type'].value_counts()"
   ],
   "metadata": {
    "collapsed": false,
    "pycharm": {
     "name": "#%%\n"
    }
   }
  },
  {
   "cell_type": "markdown",
   "source": [
    "Need to figure out what these are...\n",
    "\n",
    "Now let's try to generate a new column."
   ],
   "metadata": {
    "collapsed": false
   }
  },
  {
   "cell_type": "code",
   "execution_count": 52,
   "outputs": [
    {
     "data": {
      "text/plain": "                   country_code type  \\\npublication_number                     \nEP-1482288-B1                EP  NaN   \nEP-3134253-A4                EP  XPI   \nEP-1811026-B1                EP  NaN   \nEP-1901235-B1                EP  NaN   \nEP-2097241-B1                EP  NaN   \nEP-2280048-B1                EP  NaN   \nEP-2304028-B1                EP  NaN   \nEP-2310520-B1                EP  NaN   \nEP-2334021-B1                EP  NaN   \nEP-2737071-B1                EP  NaN   \nEP-2858150-B1                EP  NaN   \nEP-2864768-B1                EP  NaN   \nEP-2958011-B1                EP  NaN   \nEP-2992506-B1                EP  NaN   \nEP-2992528-B1                EP  NaN   \nEP-3035957-B1                EP  NaN   \nEP-3079499-B1                EP  NaN   \nEP-2665278-A3                EP   XI   \nEP-2860899-A4                EP    I   \nEP-3146321-A4                EP   ID   \nEP-2188852-B1                EP  NaN   \nEP-2188852-B1                EP  NaN   \nEP-2387988-B1                EP  NaN   \nEP-2387988-B1                EP  NaN   \nEP-2443469-B1                EP  NaN   \nEP-2443469-B1                EP  NaN   \nEP-2464636-B1                EP  NaN   \nEP-2464636-B1                EP  NaN   \nEP-2615375-B1                EP  NaN   \nEP-2876113-B1                EP  NaN   \n\n                                                             npl_text  \\\npublication_number                                                      \nEP-1482288-B1       HILARY E SNELL ET AL: \"Fourier Transform Fabry...   \nEP-3134253-A4       ROBERT MACCURDY ET AL: \"Hybrid printing of pho...   \nEP-1811026-B1       Technical Bulletin; pCI and pSI Mammalian Expr...   \nEP-1901235-B1       VERGEEST J ET AL: \"Free-form surface copy and ...   \nEP-2097241-B1       BAETEN F ET AL: \"Barium titanate characterizat...   \nEP-2280048-B1       ULRICH JAHN: \"Decandisäure\", RÖMPP ONLINE 4.0,...   \nEP-2304028-B1       BREVNOV MAXIM G ET AL: \"Developmental Validati...   \nEP-2310520-B1       BING FENG ET AL: \"Purification, characterizati...   \nEP-2334021-B1       CARLOS MOSQUERA ET AL: \"Non-Data-Aided Symbol ...   \nEP-2737071-B1       GALIBERT L ET AL: \"Baculovirus deleted for chi...   \nEP-2858150-B1       TANAKA K ET AL: \"The electronic structures of ...   \nEP-2864768-B1       SAM FLETCHER ET AL: \"Detection of Axial Cracks...   \nEP-2958011-B1       ANDREW SONG: \"Introducing Login Approvals\", 12...   \nEP-2992506-B1       SHAOTING ZHANG ET AL: \"Towards robust and effe...   \nEP-2992528-B1       SAMIR MOHAMED: \"Waveform Coding\", 8 January 20...   \nEP-3035957-B1       ANOMYNOUS: \"Minutes of the meeting of the IAP ...   \nEP-3079499-B1       MARTINE S ALLES ET AL: \"Current trends in the ...   \nEP-2665278-A3       \"Photoshop Elements 3 THE MISSING MANUAL\", 31 ...   \nEP-2860899-A4       ERICSSON ET AL: \"RI and PMI sharing between mu...   \nEP-3146321-A4       SLOUKA ET AL: \"Microfluidic Systems with lon-S...   \nEP-2188852-B1       PROHASKA; MILLER: \"Aluminum Nitride: A Review ...   \nEP-2188852-B1       YONGDA ET AL.: \"The study on pad of AlN multil...   \nEP-2387988-B1       ANONYMOUS: \"Technical Data Sheet ACULYN(TM) 28...   \nEP-2387988-B1       ANONYMOUS: \"Technical Data Sheet ACULYN(TM) 33...   \nEP-2443469-B1       HIROYUKI OHSAKI ET AL: \"Characteristics of Res...   \nEP-2443469-B1       HORI T ET AL: \"Study of kV Class Current Limit...   \nEP-2464636-B1       KURT SCHANK ET AL: \"Eine einstufige Synthese d...   \nEP-2464636-B1       REDDY S H K ET AL: \"Anodic oxidations of elect...   \nEP-2615375-B1       ANONYMOUS: \"Oxygen sensor - Wikipedia, the fre...   \nEP-2876113-B1       KOZLOVSKAYA M M ET AL: \"A comparative study of...   \n\n                                                              authors  \npublication_number                                                     \nEP-1482288-B1       HILARY E SNELL ET AL: \"Fourier Transform Fabry...  \nEP-3134253-A4                                   ROBERT MACCURDY ET AL  \nEP-1811026-B1                                                     NaN  \nEP-1901235-B1                                        VERGEEST J ET AL  \nEP-2097241-B1       BAETEN F ET AL: \"Barium titanate characterizat...  \nEP-2280048-B1       ULRICH JAHN: \"Decandisäure\", RÖMPP ONLINE 4.0,...  \nEP-2304028-B1       BREVNOV MAXIM G ET AL: \"Developmental Validati...  \nEP-2310520-B1       BING FENG ET AL: \"Purification, characterizati...  \nEP-2334021-B1       CARLOS MOSQUERA ET AL: \"Non-Data-Aided Symbol ...  \nEP-2737071-B1       GALIBERT L ET AL: \"Baculovirus deleted for chi...  \nEP-2858150-B1       TANAKA K ET AL: \"The electronic structures of ...  \nEP-2864768-B1       SAM FLETCHER ET AL: \"Detection of Axial Cracks...  \nEP-2958011-B1       ANDREW SONG: \"Introducing Login Approvals\", 12...  \nEP-2992506-B1       SHAOTING ZHANG ET AL: \"Towards robust and effe...  \nEP-2992528-B1       SAMIR MOHAMED: \"Waveform Coding\", 8 January 20...  \nEP-3035957-B1       ANOMYNOUS: \"Minutes of the meeting of the IAP ...  \nEP-3079499-B1       MARTINE S ALLES ET AL: \"Current trends in the ...  \nEP-2665278-A3       \"Photoshop Elements 3 THE MISSING MANUAL\", 31 ...  \nEP-2860899-A4                                          ERICSSON ET AL  \nEP-3146321-A4       SLOUKA ET AL: \"Microfluidic Systems with lon-S...  \nEP-2188852-B1       PROHASKA; MILLER: \"Aluminum Nitride: A Review ...  \nEP-2188852-B1       YONGDA ET AL.: \"The study on pad of AlN multil...  \nEP-2387988-B1       ANONYMOUS: \"Technical Data Sheet ACULYN(TM) 28...  \nEP-2387988-B1       ANONYMOUS: \"Technical Data Sheet ACULYN(TM) 33...  \nEP-2443469-B1       HIROYUKI OHSAKI ET AL: \"Characteristics of Res...  \nEP-2443469-B1       HORI T ET AL: \"Study of kV Class Current Limit...  \nEP-2464636-B1       KURT SCHANK ET AL: \"Eine einstufige Synthese d...  \nEP-2464636-B1       REDDY S H K ET AL: \"Anodic oxidations of elect...  \nEP-2615375-B1       ANONYMOUS: \"Oxygen sensor - Wikipedia, the fre...  \nEP-2876113-B1       KOZLOVSKAYA M M ET AL: \"A comparative study of...  ",
      "text/html": "<div>\n<style scoped>\n    .dataframe tbody tr th:only-of-type {\n        vertical-align: middle;\n    }\n\n    .dataframe tbody tr th {\n        vertical-align: top;\n    }\n\n    .dataframe thead th {\n        text-align: right;\n    }\n</style>\n<table border=\"1\" class=\"dataframe\">\n  <thead>\n    <tr style=\"text-align: right;\">\n      <th></th>\n      <th>country_code</th>\n      <th>type</th>\n      <th>npl_text</th>\n      <th>authors</th>\n    </tr>\n    <tr>\n      <th>publication_number</th>\n      <th></th>\n      <th></th>\n      <th></th>\n      <th></th>\n    </tr>\n  </thead>\n  <tbody>\n    <tr>\n      <th>EP-1482288-B1</th>\n      <td>EP</td>\n      <td>NaN</td>\n      <td>HILARY E SNELL ET AL: \"Fourier Transform Fabry...</td>\n      <td>HILARY E SNELL ET AL: \"Fourier Transform Fabry...</td>\n    </tr>\n    <tr>\n      <th>EP-3134253-A4</th>\n      <td>EP</td>\n      <td>XPI</td>\n      <td>ROBERT MACCURDY ET AL: \"Hybrid printing of pho...</td>\n      <td>ROBERT MACCURDY ET AL</td>\n    </tr>\n    <tr>\n      <th>EP-1811026-B1</th>\n      <td>EP</td>\n      <td>NaN</td>\n      <td>Technical Bulletin; pCI and pSI Mammalian Expr...</td>\n      <td>NaN</td>\n    </tr>\n    <tr>\n      <th>EP-1901235-B1</th>\n      <td>EP</td>\n      <td>NaN</td>\n      <td>VERGEEST J ET AL: \"Free-form surface copy and ...</td>\n      <td>VERGEEST J ET AL</td>\n    </tr>\n    <tr>\n      <th>EP-2097241-B1</th>\n      <td>EP</td>\n      <td>NaN</td>\n      <td>BAETEN F ET AL: \"Barium titanate characterizat...</td>\n      <td>BAETEN F ET AL: \"Barium titanate characterizat...</td>\n    </tr>\n    <tr>\n      <th>EP-2280048-B1</th>\n      <td>EP</td>\n      <td>NaN</td>\n      <td>ULRICH JAHN: \"Decandisäure\", RÖMPP ONLINE 4.0,...</td>\n      <td>ULRICH JAHN: \"Decandisäure\", RÖMPP ONLINE 4.0,...</td>\n    </tr>\n    <tr>\n      <th>EP-2304028-B1</th>\n      <td>EP</td>\n      <td>NaN</td>\n      <td>BREVNOV MAXIM G ET AL: \"Developmental Validati...</td>\n      <td>BREVNOV MAXIM G ET AL: \"Developmental Validati...</td>\n    </tr>\n    <tr>\n      <th>EP-2310520-B1</th>\n      <td>EP</td>\n      <td>NaN</td>\n      <td>BING FENG ET AL: \"Purification, characterizati...</td>\n      <td>BING FENG ET AL: \"Purification, characterizati...</td>\n    </tr>\n    <tr>\n      <th>EP-2334021-B1</th>\n      <td>EP</td>\n      <td>NaN</td>\n      <td>CARLOS MOSQUERA ET AL: \"Non-Data-Aided Symbol ...</td>\n      <td>CARLOS MOSQUERA ET AL: \"Non-Data-Aided Symbol ...</td>\n    </tr>\n    <tr>\n      <th>EP-2737071-B1</th>\n      <td>EP</td>\n      <td>NaN</td>\n      <td>GALIBERT L ET AL: \"Baculovirus deleted for chi...</td>\n      <td>GALIBERT L ET AL: \"Baculovirus deleted for chi...</td>\n    </tr>\n    <tr>\n      <th>EP-2858150-B1</th>\n      <td>EP</td>\n      <td>NaN</td>\n      <td>TANAKA K ET AL: \"The electronic structures of ...</td>\n      <td>TANAKA K ET AL: \"The electronic structures of ...</td>\n    </tr>\n    <tr>\n      <th>EP-2864768-B1</th>\n      <td>EP</td>\n      <td>NaN</td>\n      <td>SAM FLETCHER ET AL: \"Detection of Axial Cracks...</td>\n      <td>SAM FLETCHER ET AL: \"Detection of Axial Cracks...</td>\n    </tr>\n    <tr>\n      <th>EP-2958011-B1</th>\n      <td>EP</td>\n      <td>NaN</td>\n      <td>ANDREW SONG: \"Introducing Login Approvals\", 12...</td>\n      <td>ANDREW SONG: \"Introducing Login Approvals\", 12...</td>\n    </tr>\n    <tr>\n      <th>EP-2992506-B1</th>\n      <td>EP</td>\n      <td>NaN</td>\n      <td>SHAOTING ZHANG ET AL: \"Towards robust and effe...</td>\n      <td>SHAOTING ZHANG ET AL: \"Towards robust and effe...</td>\n    </tr>\n    <tr>\n      <th>EP-2992528-B1</th>\n      <td>EP</td>\n      <td>NaN</td>\n      <td>SAMIR MOHAMED: \"Waveform Coding\", 8 January 20...</td>\n      <td>SAMIR MOHAMED: \"Waveform Coding\", 8 January 20...</td>\n    </tr>\n    <tr>\n      <th>EP-3035957-B1</th>\n      <td>EP</td>\n      <td>NaN</td>\n      <td>ANOMYNOUS: \"Minutes of the meeting of the IAP ...</td>\n      <td>ANOMYNOUS: \"Minutes of the meeting of the IAP ...</td>\n    </tr>\n    <tr>\n      <th>EP-3079499-B1</th>\n      <td>EP</td>\n      <td>NaN</td>\n      <td>MARTINE S ALLES ET AL: \"Current trends in the ...</td>\n      <td>MARTINE S ALLES ET AL: \"Current trends in the ...</td>\n    </tr>\n    <tr>\n      <th>EP-2665278-A3</th>\n      <td>EP</td>\n      <td>XI</td>\n      <td>\"Photoshop Elements 3 THE MISSING MANUAL\", 31 ...</td>\n      <td>\"Photoshop Elements 3 THE MISSING MANUAL\", 31 ...</td>\n    </tr>\n    <tr>\n      <th>EP-2860899-A4</th>\n      <td>EP</td>\n      <td>I</td>\n      <td>ERICSSON ET AL: \"RI and PMI sharing between mu...</td>\n      <td>ERICSSON ET AL</td>\n    </tr>\n    <tr>\n      <th>EP-3146321-A4</th>\n      <td>EP</td>\n      <td>ID</td>\n      <td>SLOUKA ET AL: \"Microfluidic Systems with lon-S...</td>\n      <td>SLOUKA ET AL: \"Microfluidic Systems with lon-S...</td>\n    </tr>\n    <tr>\n      <th>EP-2188852-B1</th>\n      <td>EP</td>\n      <td>NaN</td>\n      <td>PROHASKA; MILLER: \"Aluminum Nitride: A Review ...</td>\n      <td>PROHASKA; MILLER: \"Aluminum Nitride: A Review ...</td>\n    </tr>\n    <tr>\n      <th>EP-2188852-B1</th>\n      <td>EP</td>\n      <td>NaN</td>\n      <td>YONGDA ET AL.: \"The study on pad of AlN multil...</td>\n      <td>YONGDA ET AL.: \"The study on pad of AlN multil...</td>\n    </tr>\n    <tr>\n      <th>EP-2387988-B1</th>\n      <td>EP</td>\n      <td>NaN</td>\n      <td>ANONYMOUS: \"Technical Data Sheet ACULYN(TM) 28...</td>\n      <td>ANONYMOUS: \"Technical Data Sheet ACULYN(TM) 28...</td>\n    </tr>\n    <tr>\n      <th>EP-2387988-B1</th>\n      <td>EP</td>\n      <td>NaN</td>\n      <td>ANONYMOUS: \"Technical Data Sheet ACULYN(TM) 33...</td>\n      <td>ANONYMOUS: \"Technical Data Sheet ACULYN(TM) 33...</td>\n    </tr>\n    <tr>\n      <th>EP-2443469-B1</th>\n      <td>EP</td>\n      <td>NaN</td>\n      <td>HIROYUKI OHSAKI ET AL: \"Characteristics of Res...</td>\n      <td>HIROYUKI OHSAKI ET AL: \"Characteristics of Res...</td>\n    </tr>\n    <tr>\n      <th>EP-2443469-B1</th>\n      <td>EP</td>\n      <td>NaN</td>\n      <td>HORI T ET AL: \"Study of kV Class Current Limit...</td>\n      <td>HORI T ET AL: \"Study of kV Class Current Limit...</td>\n    </tr>\n    <tr>\n      <th>EP-2464636-B1</th>\n      <td>EP</td>\n      <td>NaN</td>\n      <td>KURT SCHANK ET AL: \"Eine einstufige Synthese d...</td>\n      <td>KURT SCHANK ET AL: \"Eine einstufige Synthese d...</td>\n    </tr>\n    <tr>\n      <th>EP-2464636-B1</th>\n      <td>EP</td>\n      <td>NaN</td>\n      <td>REDDY S H K ET AL: \"Anodic oxidations of elect...</td>\n      <td>REDDY S H K ET AL: \"Anodic oxidations of elect...</td>\n    </tr>\n    <tr>\n      <th>EP-2615375-B1</th>\n      <td>EP</td>\n      <td>NaN</td>\n      <td>ANONYMOUS: \"Oxygen sensor - Wikipedia, the fre...</td>\n      <td>ANONYMOUS: \"Oxygen sensor - Wikipedia, the fre...</td>\n    </tr>\n    <tr>\n      <th>EP-2876113-B1</th>\n      <td>EP</td>\n      <td>NaN</td>\n      <td>KOZLOVSKAYA M M ET AL: \"A comparative study of...</td>\n      <td>KOZLOVSKAYA M M ET AL: \"A comparative study of...</td>\n    </tr>\n  </tbody>\n</table>\n</div>"
     },
     "execution_count": 52,
     "metadata": {},
     "output_type": "execute_result"
    }
   ],
   "source": [
    "patents_clean['authors'] = patents_clean['npl_text'].str.extract(r'(.*):')\n",
    "patents_clean.head(30)"
   ],
   "metadata": {
    "collapsed": false,
    "pycharm": {
     "name": "#%%\n"
    }
   }
  },
  {
   "cell_type": "markdown",
   "source": [
    "There seems to be some awkward issue here. This the same in R too."
   ],
   "metadata": {
    "collapsed": false
   }
  }
 ],
 "metadata": {
  "kernelspec": {
   "name": "conda-root-py",
   "language": "python",
   "display_name": "Python [conda env:root]"
  },
  "language_info": {
   "codemirror_mode": {
    "name": "ipython",
    "version": 2
   },
   "file_extension": ".py",
   "mimetype": "text/x-python",
   "name": "python",
   "nbconvert_exporter": "python",
   "pygments_lexer": "ipython2",
   "version": "2.7.6"
  }
 },
 "nbformat": 4,
 "nbformat_minor": 0
}