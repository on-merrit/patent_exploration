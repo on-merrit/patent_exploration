{
 "cells": [
  {
   "cell_type": "markdown",
   "metadata": {
    "pycharm": {
     "name": "#%% md\n"
    }
   },
   "source": [
    "# Explore extracting references\n",
    "In this notebook we will explore how to extract data from the raw google patents data.\n"
   ]
  },
  {
   "cell_type": "code",
   "execution_count": 1,
   "metadata": {
    "collapsed": true
   },
   "outputs": [],
   "source": [
    "import pandas as pd\n",
    "\n"
   ]
  },
  {
   "cell_type": "code",
   "execution_count": 2,
   "metadata": {
    "pycharm": {
     "name": "#%%\n"
    }
   },
   "outputs": [],
   "source": [
    "patents = pd.read_csv(\"../data/rand_npl.csv\", index_col=\"publication_number\",\n",
    "                      encoding='utf-8')\n",
    "\n",
    "\n"
   ]
  },
  {
   "cell_type": "code",
   "execution_count": 3,
   "metadata": {
    "pycharm": {
     "name": "#%%\n"
    }
   },
   "outputs": [
    {
     "data": {
      "text/plain": "                   country_code type  \\\npublication_number                     \nEP-1482288-B1                EP  NaN   \nEP-3134253-A4                EP  XPI   \nEP-1811026-B1                EP  NaN   \nEP-1901235-B1                EP  NaN   \nEP-2097241-B1                EP  NaN   \n\n                                                             npl_text  \\\npublication_number                                                      \nEP-1482288-B1       HILARY E SNELL ET AL: \"Fourier Transform Fabry...   \nEP-3134253-A4       ROBERT MACCURDY ET AL: \"Hybrid printing of pho...   \nEP-1811026-B1       Technical Bulletin; pCI and pSI Mammalian Expr...   \nEP-1901235-B1       VERGEEST J ET AL: \"Free-form surface copy and ...   \nEP-2097241-B1       BAETEN F ET AL: \"Barium titanate characterizat...   \n\n                        rand  \npublication_number            \nEP-1482288-B1       0.964252  \nEP-3134253-A4       0.102272  \nEP-1811026-B1       0.976539  \nEP-1901235-B1       0.202909  \nEP-2097241-B1       0.497251  ",
      "text/html": "<div>\n<style scoped>\n    .dataframe tbody tr th:only-of-type {\n        vertical-align: middle;\n    }\n\n    .dataframe tbody tr th {\n        vertical-align: top;\n    }\n\n    .dataframe thead th {\n        text-align: right;\n    }\n</style>\n<table border=\"1\" class=\"dataframe\">\n  <thead>\n    <tr style=\"text-align: right;\">\n      <th></th>\n      <th>country_code</th>\n      <th>type</th>\n      <th>npl_text</th>\n      <th>rand</th>\n    </tr>\n    <tr>\n      <th>publication_number</th>\n      <th></th>\n      <th></th>\n      <th></th>\n      <th></th>\n    </tr>\n  </thead>\n  <tbody>\n    <tr>\n      <th>EP-1482288-B1</th>\n      <td>EP</td>\n      <td>NaN</td>\n      <td>HILARY E SNELL ET AL: \"Fourier Transform Fabry...</td>\n      <td>0.964252</td>\n    </tr>\n    <tr>\n      <th>EP-3134253-A4</th>\n      <td>EP</td>\n      <td>XPI</td>\n      <td>ROBERT MACCURDY ET AL: \"Hybrid printing of pho...</td>\n      <td>0.102272</td>\n    </tr>\n    <tr>\n      <th>EP-1811026-B1</th>\n      <td>EP</td>\n      <td>NaN</td>\n      <td>Technical Bulletin; pCI and pSI Mammalian Expr...</td>\n      <td>0.976539</td>\n    </tr>\n    <tr>\n      <th>EP-1901235-B1</th>\n      <td>EP</td>\n      <td>NaN</td>\n      <td>VERGEEST J ET AL: \"Free-form surface copy and ...</td>\n      <td>0.202909</td>\n    </tr>\n    <tr>\n      <th>EP-2097241-B1</th>\n      <td>EP</td>\n      <td>NaN</td>\n      <td>BAETEN F ET AL: \"Barium titanate characterizat...</td>\n      <td>0.497251</td>\n    </tr>\n  </tbody>\n</table>\n</div>"
     },
     "execution_count": 3,
     "metadata": {},
     "output_type": "execute_result"
    }
   ],
   "source": [
    "patents.head(5)"
   ]
  },
  {
   "cell_type": "code",
   "execution_count": 4,
   "metadata": {
    "pycharm": {
     "name": "#%%\n"
    }
   },
   "outputs": [],
   "source": [
    "patents_clean = patents.drop(columns = ['rand'])"
   ]
  },
  {
   "cell_type": "code",
   "execution_count": 5,
   "metadata": {
    "pycharm": {
     "name": "#%%\n"
    }
   },
   "outputs": [
    {
     "data": {
      "text/plain": "EP    10000\nName: country_code, dtype: int64"
     },
     "execution_count": 5,
     "metadata": {},
     "output_type": "execute_result"
    }
   ],
   "source": [
    "# get an overview of cell content\n",
    "patents_clean['country_code'].value_counts()\n"
   ]
  },
  {
   "cell_type": "code",
   "execution_count": 6,
   "metadata": {
    "pycharm": {
     "name": "#%%\n"
    }
   },
   "outputs": [],
   "source": [
    "patents_clean = patents_clean.drop(columns = ['country_code'])"
   ]
  },
  {
   "cell_type": "code",
   "execution_count": 7,
   "metadata": {
    "pycharm": {
     "name": "#%%\n"
    }
   },
   "outputs": [
    {
     "data": {
      "text/plain": "A       1209\nY        428\nX        379\nXI       266\nI        217\nT        112\nXY        92\nXA        64\nXP        63\nXYI       55\nYA        54\nXAI       41\nAD        35\nIY        29\nAP        26\nIA        26\nYD        26\nIP        21\nXAY       12\nID         9\nXPI        8\nYP         6\nXD         6\nL          6\nXAYI       6\nXDI        4\nXIY        4\nP          3\nIAY        3\nXDYI       2\nXIA        2\nPX         2\nDA         2\nXPYI       1\nDXY        1\nYDA        1\nYPA        1\nXDY        1\nXOP        1\nDX         1\nXPY        1\nName: type, dtype: int64"
     },
     "execution_count": 7,
     "metadata": {},
     "output_type": "execute_result"
    }
   ],
   "source": [
    "patents_clean['type'].value_counts()"
   ]
  },
  {
   "cell_type": "markdown",
   "metadata": {},
   "source": [
    "Need to figure out what these are...\n",
    "\n",
    "Now let's try to generate a new column."
   ]
  },
  {
   "cell_type": "code",
   "execution_count": 8,
   "metadata": {
    "pycharm": {
     "name": "#%%\n"
    }
   },
   "outputs": [
    {
     "data": {
      "text/plain": "                   type                                           npl_text  \\\npublication_number                                                           \nEP-1482288-B1       NaN  HILARY E SNELL ET AL: \"Fourier Transform Fabry...   \nEP-3134253-A4       XPI  ROBERT MACCURDY ET AL: \"Hybrid printing of pho...   \nEP-1811026-B1       NaN  Technical Bulletin; pCI and pSI Mammalian Expr...   \nEP-1901235-B1       NaN  VERGEEST J ET AL: \"Free-form surface copy and ...   \nEP-2097241-B1       NaN  BAETEN F ET AL: \"Barium titanate characterizat...   \nEP-2280048-B1       NaN  ULRICH JAHN: \"Decandisäure\", RÖMPP ONLINE 4.0,...   \nEP-2304028-B1       NaN  BREVNOV MAXIM G ET AL: \"Developmental Validati...   \nEP-2310520-B1       NaN  BING FENG ET AL: \"Purification, characterizati...   \nEP-2334021-B1       NaN  CARLOS MOSQUERA ET AL: \"Non-Data-Aided Symbol ...   \nEP-2737071-B1       NaN  GALIBERT L ET AL: \"Baculovirus deleted for chi...   \nEP-2858150-B1       NaN  TANAKA K ET AL: \"The electronic structures of ...   \nEP-2864768-B1       NaN  SAM FLETCHER ET AL: \"Detection of Axial Cracks...   \nEP-2958011-B1       NaN  ANDREW SONG: \"Introducing Login Approvals\", 12...   \nEP-2992506-B1       NaN  SHAOTING ZHANG ET AL: \"Towards robust and effe...   \nEP-2992528-B1       NaN  SAMIR MOHAMED: \"Waveform Coding\", 8 January 20...   \nEP-3035957-B1       NaN  ANOMYNOUS: \"Minutes of the meeting of the IAP ...   \nEP-3079499-B1       NaN  MARTINE S ALLES ET AL: \"Current trends in the ...   \nEP-2665278-A3        XI  \"Photoshop Elements 3 THE MISSING MANUAL\", 31 ...   \nEP-2860899-A4         I  ERICSSON ET AL: \"RI and PMI sharing between mu...   \nEP-3146321-A4        ID  SLOUKA ET AL: \"Microfluidic Systems with lon-S...   \nEP-2188852-B1       NaN  PROHASKA; MILLER: \"Aluminum Nitride: A Review ...   \nEP-2188852-B1       NaN  YONGDA ET AL.: \"The study on pad of AlN multil...   \nEP-2387988-B1       NaN  ANONYMOUS: \"Technical Data Sheet ACULYN(TM) 28...   \nEP-2387988-B1       NaN  ANONYMOUS: \"Technical Data Sheet ACULYN(TM) 33...   \nEP-2443469-B1       NaN  HIROYUKI OHSAKI ET AL: \"Characteristics of Res...   \nEP-2443469-B1       NaN  HORI T ET AL: \"Study of kV Class Current Limit...   \nEP-2464636-B1       NaN  KURT SCHANK ET AL: \"Eine einstufige Synthese d...   \nEP-2464636-B1       NaN  REDDY S H K ET AL: \"Anodic oxidations of elect...   \nEP-2615375-B1       NaN  ANONYMOUS: \"Oxygen sensor - Wikipedia, the fre...   \nEP-2876113-B1       NaN  KOZLOVSKAYA M M ET AL: \"A comparative study of...   \n\n                                  authors  \npublication_number                         \nEP-1482288-B1        HILARY E SNELL ET AL  \nEP-3134253-A4       ROBERT MACCURDY ET AL  \nEP-1811026-B1                         NaN  \nEP-1901235-B1            VERGEEST J ET AL  \nEP-2097241-B1              BAETEN F ET AL  \nEP-2280048-B1                 ULRICH JAHN  \nEP-2304028-B1       BREVNOV MAXIM G ET AL  \nEP-2310520-B1             BING FENG ET AL  \nEP-2334021-B1       CARLOS MOSQUERA ET AL  \nEP-2737071-B1            GALIBERT L ET AL  \nEP-2858150-B1              TANAKA K ET AL  \nEP-2864768-B1          SAM FLETCHER ET AL  \nEP-2958011-B1                 ANDREW SONG  \nEP-2992506-B1        SHAOTING ZHANG ET AL  \nEP-2992528-B1               SAMIR MOHAMED  \nEP-3035957-B1                   ANOMYNOUS  \nEP-3079499-B1       MARTINE S ALLES ET AL  \nEP-2665278-A3                         NaN  \nEP-2860899-A4              ERICSSON ET AL  \nEP-3146321-A4                SLOUKA ET AL  \nEP-2188852-B1            PROHASKA; MILLER  \nEP-2188852-B1               YONGDA ET AL.  \nEP-2387988-B1                   ANONYMOUS  \nEP-2387988-B1                   ANONYMOUS  \nEP-2443469-B1       HIROYUKI OHSAKI ET AL  \nEP-2443469-B1                HORI T ET AL  \nEP-2464636-B1           KURT SCHANK ET AL  \nEP-2464636-B1           REDDY S H K ET AL  \nEP-2615375-B1                   ANONYMOUS  \nEP-2876113-B1       KOZLOVSKAYA M M ET AL  ",
      "text/html": "<div>\n<style scoped>\n    .dataframe tbody tr th:only-of-type {\n        vertical-align: middle;\n    }\n\n    .dataframe tbody tr th {\n        vertical-align: top;\n    }\n\n    .dataframe thead th {\n        text-align: right;\n    }\n</style>\n<table border=\"1\" class=\"dataframe\">\n  <thead>\n    <tr style=\"text-align: right;\">\n      <th></th>\n      <th>type</th>\n      <th>npl_text</th>\n      <th>authors</th>\n    </tr>\n    <tr>\n      <th>publication_number</th>\n      <th></th>\n      <th></th>\n      <th></th>\n    </tr>\n  </thead>\n  <tbody>\n    <tr>\n      <th>EP-1482288-B1</th>\n      <td>NaN</td>\n      <td>HILARY E SNELL ET AL: \"Fourier Transform Fabry...</td>\n      <td>HILARY E SNELL ET AL</td>\n    </tr>\n    <tr>\n      <th>EP-3134253-A4</th>\n      <td>XPI</td>\n      <td>ROBERT MACCURDY ET AL: \"Hybrid printing of pho...</td>\n      <td>ROBERT MACCURDY ET AL</td>\n    </tr>\n    <tr>\n      <th>EP-1811026-B1</th>\n      <td>NaN</td>\n      <td>Technical Bulletin; pCI and pSI Mammalian Expr...</td>\n      <td>NaN</td>\n    </tr>\n    <tr>\n      <th>EP-1901235-B1</th>\n      <td>NaN</td>\n      <td>VERGEEST J ET AL: \"Free-form surface copy and ...</td>\n      <td>VERGEEST J ET AL</td>\n    </tr>\n    <tr>\n      <th>EP-2097241-B1</th>\n      <td>NaN</td>\n      <td>BAETEN F ET AL: \"Barium titanate characterizat...</td>\n      <td>BAETEN F ET AL</td>\n    </tr>\n    <tr>\n      <th>EP-2280048-B1</th>\n      <td>NaN</td>\n      <td>ULRICH JAHN: \"Decandisäure\", RÖMPP ONLINE 4.0,...</td>\n      <td>ULRICH JAHN</td>\n    </tr>\n    <tr>\n      <th>EP-2304028-B1</th>\n      <td>NaN</td>\n      <td>BREVNOV MAXIM G ET AL: \"Developmental Validati...</td>\n      <td>BREVNOV MAXIM G ET AL</td>\n    </tr>\n    <tr>\n      <th>EP-2310520-B1</th>\n      <td>NaN</td>\n      <td>BING FENG ET AL: \"Purification, characterizati...</td>\n      <td>BING FENG ET AL</td>\n    </tr>\n    <tr>\n      <th>EP-2334021-B1</th>\n      <td>NaN</td>\n      <td>CARLOS MOSQUERA ET AL: \"Non-Data-Aided Symbol ...</td>\n      <td>CARLOS MOSQUERA ET AL</td>\n    </tr>\n    <tr>\n      <th>EP-2737071-B1</th>\n      <td>NaN</td>\n      <td>GALIBERT L ET AL: \"Baculovirus deleted for chi...</td>\n      <td>GALIBERT L ET AL</td>\n    </tr>\n    <tr>\n      <th>EP-2858150-B1</th>\n      <td>NaN</td>\n      <td>TANAKA K ET AL: \"The electronic structures of ...</td>\n      <td>TANAKA K ET AL</td>\n    </tr>\n    <tr>\n      <th>EP-2864768-B1</th>\n      <td>NaN</td>\n      <td>SAM FLETCHER ET AL: \"Detection of Axial Cracks...</td>\n      <td>SAM FLETCHER ET AL</td>\n    </tr>\n    <tr>\n      <th>EP-2958011-B1</th>\n      <td>NaN</td>\n      <td>ANDREW SONG: \"Introducing Login Approvals\", 12...</td>\n      <td>ANDREW SONG</td>\n    </tr>\n    <tr>\n      <th>EP-2992506-B1</th>\n      <td>NaN</td>\n      <td>SHAOTING ZHANG ET AL: \"Towards robust and effe...</td>\n      <td>SHAOTING ZHANG ET AL</td>\n    </tr>\n    <tr>\n      <th>EP-2992528-B1</th>\n      <td>NaN</td>\n      <td>SAMIR MOHAMED: \"Waveform Coding\", 8 January 20...</td>\n      <td>SAMIR MOHAMED</td>\n    </tr>\n    <tr>\n      <th>EP-3035957-B1</th>\n      <td>NaN</td>\n      <td>ANOMYNOUS: \"Minutes of the meeting of the IAP ...</td>\n      <td>ANOMYNOUS</td>\n    </tr>\n    <tr>\n      <th>EP-3079499-B1</th>\n      <td>NaN</td>\n      <td>MARTINE S ALLES ET AL: \"Current trends in the ...</td>\n      <td>MARTINE S ALLES ET AL</td>\n    </tr>\n    <tr>\n      <th>EP-2665278-A3</th>\n      <td>XI</td>\n      <td>\"Photoshop Elements 3 THE MISSING MANUAL\", 31 ...</td>\n      <td>NaN</td>\n    </tr>\n    <tr>\n      <th>EP-2860899-A4</th>\n      <td>I</td>\n      <td>ERICSSON ET AL: \"RI and PMI sharing between mu...</td>\n      <td>ERICSSON ET AL</td>\n    </tr>\n    <tr>\n      <th>EP-3146321-A4</th>\n      <td>ID</td>\n      <td>SLOUKA ET AL: \"Microfluidic Systems with lon-S...</td>\n      <td>SLOUKA ET AL</td>\n    </tr>\n    <tr>\n      <th>EP-2188852-B1</th>\n      <td>NaN</td>\n      <td>PROHASKA; MILLER: \"Aluminum Nitride: A Review ...</td>\n      <td>PROHASKA; MILLER</td>\n    </tr>\n    <tr>\n      <th>EP-2188852-B1</th>\n      <td>NaN</td>\n      <td>YONGDA ET AL.: \"The study on pad of AlN multil...</td>\n      <td>YONGDA ET AL.</td>\n    </tr>\n    <tr>\n      <th>EP-2387988-B1</th>\n      <td>NaN</td>\n      <td>ANONYMOUS: \"Technical Data Sheet ACULYN(TM) 28...</td>\n      <td>ANONYMOUS</td>\n    </tr>\n    <tr>\n      <th>EP-2387988-B1</th>\n      <td>NaN</td>\n      <td>ANONYMOUS: \"Technical Data Sheet ACULYN(TM) 33...</td>\n      <td>ANONYMOUS</td>\n    </tr>\n    <tr>\n      <th>EP-2443469-B1</th>\n      <td>NaN</td>\n      <td>HIROYUKI OHSAKI ET AL: \"Characteristics of Res...</td>\n      <td>HIROYUKI OHSAKI ET AL</td>\n    </tr>\n    <tr>\n      <th>EP-2443469-B1</th>\n      <td>NaN</td>\n      <td>HORI T ET AL: \"Study of kV Class Current Limit...</td>\n      <td>HORI T ET AL</td>\n    </tr>\n    <tr>\n      <th>EP-2464636-B1</th>\n      <td>NaN</td>\n      <td>KURT SCHANK ET AL: \"Eine einstufige Synthese d...</td>\n      <td>KURT SCHANK ET AL</td>\n    </tr>\n    <tr>\n      <th>EP-2464636-B1</th>\n      <td>NaN</td>\n      <td>REDDY S H K ET AL: \"Anodic oxidations of elect...</td>\n      <td>REDDY S H K ET AL</td>\n    </tr>\n    <tr>\n      <th>EP-2615375-B1</th>\n      <td>NaN</td>\n      <td>ANONYMOUS: \"Oxygen sensor - Wikipedia, the fre...</td>\n      <td>ANONYMOUS</td>\n    </tr>\n    <tr>\n      <th>EP-2876113-B1</th>\n      <td>NaN</td>\n      <td>KOZLOVSKAYA M M ET AL: \"A comparative study of...</td>\n      <td>KOZLOVSKAYA M M ET AL</td>\n    </tr>\n  </tbody>\n</table>\n</div>"
     },
     "execution_count": 8,
     "metadata": {},
     "output_type": "execute_result"
    }
   ],
   "source": [
    "patents_clean['authors'] = patents_clean['npl_text'].str.extract(r'^(\\w.*?):')\n",
    "patents_clean.head(30)"
   ]
  },
  {
   "cell_type": "markdown",
   "metadata": {
    "pycharm": {
     "name": "#%% md\n"
    }
   },
   "source": [
    "Now to extract the titles.\n"
   ]
  },
  {
   "cell_type": "code",
   "execution_count": 9,
   "metadata": {
    "pycharm": {
     "name": "#%%\n"
    }
   },
   "outputs": [],
   "source": [
    "# define function for extracting stuff\n",
    "\n",
    "def extract_part(search_str, df = patents_clean, var = 'npl_text'):\n",
    "    return df[var].str.extract(fr'{search_str}')\n"
   ]
  },
  {
   "cell_type": "code",
   "execution_count": 10,
   "outputs": [],
   "source": [
    "patents_clean['title'] = extract_part('(?<=:)\\s?\\\"+(.*?)\\\"')\n",
    "# this is not so good, since it assumes a colon before the title\n",
    "# maybe just start with quotes?\n",
    "patents_clean['title'] = extract_part('\\\"+(.*?)\\\"')"
   ],
   "metadata": {
    "collapsed": false,
    "pycharm": {
     "name": "#%%\n"
    }
   }
  },
  {
   "cell_type": "code",
   "execution_count": 11,
   "outputs": [
    {
     "data": {
      "text/plain": "                                                             npl_text  \\\npublication_number                                                      \nEP-1482288-B1       HILARY E SNELL ET AL: \"Fourier Transform Fabry...   \nEP-3134253-A4       ROBERT MACCURDY ET AL: \"Hybrid printing of pho...   \nEP-1811026-B1       Technical Bulletin; pCI and pSI Mammalian Expr...   \nEP-1901235-B1       VERGEEST J ET AL: \"Free-form surface copy and ...   \nEP-2097241-B1       BAETEN F ET AL: \"Barium titanate characterizat...   \n\n                                                                title  \npublication_number                                                     \nEP-1482288-B1            Fourier Transform Fabry-Perot Interferometer  \nEP-3134253-A4       Hybrid printing of photopolymers and electrome...  \nEP-1811026-B1                                                     NaN  \nEP-1901235-B1       Free-form surface copy and paste techniques fo...  \nEP-2097241-B1       Barium titanate characterization by differenti...  ",
      "text/html": "<div>\n<style scoped>\n    .dataframe tbody tr th:only-of-type {\n        vertical-align: middle;\n    }\n\n    .dataframe tbody tr th {\n        vertical-align: top;\n    }\n\n    .dataframe thead th {\n        text-align: right;\n    }\n</style>\n<table border=\"1\" class=\"dataframe\">\n  <thead>\n    <tr style=\"text-align: right;\">\n      <th></th>\n      <th>npl_text</th>\n      <th>title</th>\n    </tr>\n    <tr>\n      <th>publication_number</th>\n      <th></th>\n      <th></th>\n    </tr>\n  </thead>\n  <tbody>\n    <tr>\n      <th>EP-1482288-B1</th>\n      <td>HILARY E SNELL ET AL: \"Fourier Transform Fabry...</td>\n      <td>Fourier Transform Fabry-Perot Interferometer</td>\n    </tr>\n    <tr>\n      <th>EP-3134253-A4</th>\n      <td>ROBERT MACCURDY ET AL: \"Hybrid printing of pho...</td>\n      <td>Hybrid printing of photopolymers and electrome...</td>\n    </tr>\n    <tr>\n      <th>EP-1811026-B1</th>\n      <td>Technical Bulletin; pCI and pSI Mammalian Expr...</td>\n      <td>NaN</td>\n    </tr>\n    <tr>\n      <th>EP-1901235-B1</th>\n      <td>VERGEEST J ET AL: \"Free-form surface copy and ...</td>\n      <td>Free-form surface copy and paste techniques fo...</td>\n    </tr>\n    <tr>\n      <th>EP-2097241-B1</th>\n      <td>BAETEN F ET AL: \"Barium titanate characterizat...</td>\n      <td>Barium titanate characterization by differenti...</td>\n    </tr>\n  </tbody>\n</table>\n</div>"
     },
     "execution_count": 11,
     "metadata": {},
     "output_type": "execute_result"
    }
   ],
   "source": [
    "patents_clean[['npl_text', 'title']].head()"
   ],
   "metadata": {
    "collapsed": false,
    "pycharm": {
     "name": "#%%\n"
    }
   }
  },
  {
   "cell_type": "code",
   "execution_count": 12,
   "outputs": [
    {
     "data": {
      "text/plain": "                   type                                           npl_text  \\\npublication_number                                                           \nEP-3570521-A1         A  \"3rd Generation Partnership Project; Technical...   \nEP-3570521-A1         A  \"3rd Generation Partnership Project; Technical...   \nEP-3570521-A1         X  \"3rd Generation Partnership Project;Technical ...   \nEP-2908463-A1        XI  \"3rd Generation Partnership Project; Technical...   \nEP-2908463-A1         A  \"3rd Generation Partnership Project; Technical...   \n\n                   authors                                              title  \npublication_number                                                             \nEP-3570521-A1          NaN  3rd Generation Partnership Project; Technical ...  \nEP-3570521-A1          NaN  3rd Generation Partnership Project; Technical ...  \nEP-3570521-A1          NaN  3rd Generation Partnership Project;Technical S...  \nEP-2908463-A1          NaN  3rd Generation Partnership Project; Technical ...  \nEP-2908463-A1          NaN  3rd Generation Partnership Project; Technical ...  ",
      "text/html": "<div>\n<style scoped>\n    .dataframe tbody tr th:only-of-type {\n        vertical-align: middle;\n    }\n\n    .dataframe tbody tr th {\n        vertical-align: top;\n    }\n\n    .dataframe thead th {\n        text-align: right;\n    }\n</style>\n<table border=\"1\" class=\"dataframe\">\n  <thead>\n    <tr style=\"text-align: right;\">\n      <th></th>\n      <th>type</th>\n      <th>npl_text</th>\n      <th>authors</th>\n      <th>title</th>\n    </tr>\n    <tr>\n      <th>publication_number</th>\n      <th></th>\n      <th></th>\n      <th></th>\n      <th></th>\n    </tr>\n  </thead>\n  <tbody>\n    <tr>\n      <th>EP-3570521-A1</th>\n      <td>A</td>\n      <td>\"3rd Generation Partnership Project; Technical...</td>\n      <td>NaN</td>\n      <td>3rd Generation Partnership Project; Technical ...</td>\n    </tr>\n    <tr>\n      <th>EP-3570521-A1</th>\n      <td>A</td>\n      <td>\"3rd Generation Partnership Project; Technical...</td>\n      <td>NaN</td>\n      <td>3rd Generation Partnership Project; Technical ...</td>\n    </tr>\n    <tr>\n      <th>EP-3570521-A1</th>\n      <td>X</td>\n      <td>\"3rd Generation Partnership Project;Technical ...</td>\n      <td>NaN</td>\n      <td>3rd Generation Partnership Project;Technical S...</td>\n    </tr>\n    <tr>\n      <th>EP-2908463-A1</th>\n      <td>XI</td>\n      <td>\"3rd Generation Partnership Project; Technical...</td>\n      <td>NaN</td>\n      <td>3rd Generation Partnership Project; Technical ...</td>\n    </tr>\n    <tr>\n      <th>EP-2908463-A1</th>\n      <td>A</td>\n      <td>\"3rd Generation Partnership Project; Technical...</td>\n      <td>NaN</td>\n      <td>3rd Generation Partnership Project; Technical ...</td>\n    </tr>\n  </tbody>\n</table>\n</div>"
     },
     "execution_count": 12,
     "metadata": {},
     "output_type": "execute_result"
    }
   ],
   "source": [
    "# this shows that the improved regex matches also this case\n",
    "patents_clean[patents_clean.title.str.startswith('3rd', na=False)].head(5)"
   ],
   "metadata": {
    "collapsed": false,
    "pycharm": {
     "name": "#%%\n"
    }
   }
  },
  {
   "cell_type": "markdown",
   "source": [
    "Extract DOI"
   ],
   "metadata": {
    "collapsed": false,
    "pycharm": {
     "name": "#%% md\n"
    }
   }
  },
  {
   "cell_type": "code",
   "execution_count": 13,
   "outputs": [],
   "source": [
    "# regex pattern with slight modification from\n",
    "# https://stackoverflow.com/a/10324802/3149349\n",
    "# this is the simplified version in the middle of him developing the regex.\n",
    "# If it works sufficiently well, let's keep it at that\n",
    "patents_clean['doi'] = extract_part('(10[.][0-9]{4,}(?:[.][0-9]+)*/\\S+)')"
   ],
   "metadata": {
    "collapsed": false,
    "pycharm": {
     "name": "#%%\n"
    }
   }
  },
  {
   "cell_type": "code",
   "execution_count": 14,
   "outputs": [
    {
     "data": {
      "text/plain": "                                                             npl_text  \\\npublication_number                                                      \nEP-1482288-B1       HILARY E SNELL ET AL: \"Fourier Transform Fabry...   \nEP-3134253-A4       ROBERT MACCURDY ET AL: \"Hybrid printing of pho...   \nEP-1811026-B1       Technical Bulletin; pCI and pSI Mammalian Expr...   \nEP-1901235-B1       VERGEEST J ET AL: \"Free-form surface copy and ...   \nEP-2097241-B1       BAETEN F ET AL: \"Barium titanate characterizat...   \nEP-2280048-B1       ULRICH JAHN: \"Decandisäure\", RÖMPP ONLINE 4.0,...   \nEP-2304028-B1       BREVNOV MAXIM G ET AL: \"Developmental Validati...   \nEP-2310520-B1       BING FENG ET AL: \"Purification, characterizati...   \nEP-2334021-B1       CARLOS MOSQUERA ET AL: \"Non-Data-Aided Symbol ...   \nEP-2737071-B1       GALIBERT L ET AL: \"Baculovirus deleted for chi...   \nEP-2858150-B1       TANAKA K ET AL: \"The electronic structures of ...   \nEP-2864768-B1       SAM FLETCHER ET AL: \"Detection of Axial Cracks...   \nEP-2958011-B1       ANDREW SONG: \"Introducing Login Approvals\", 12...   \nEP-2992506-B1       SHAOTING ZHANG ET AL: \"Towards robust and effe...   \nEP-2992528-B1       SAMIR MOHAMED: \"Waveform Coding\", 8 January 20...   \nEP-3035957-B1       ANOMYNOUS: \"Minutes of the meeting of the IAP ...   \nEP-3079499-B1       MARTINE S ALLES ET AL: \"Current trends in the ...   \nEP-2665278-A3       \"Photoshop Elements 3 THE MISSING MANUAL\", 31 ...   \nEP-2860899-A4       ERICSSON ET AL: \"RI and PMI sharing between mu...   \nEP-3146321-A4       SLOUKA ET AL: \"Microfluidic Systems with lon-S...   \nEP-2188852-B1       PROHASKA; MILLER: \"Aluminum Nitride: A Review ...   \nEP-2188852-B1       YONGDA ET AL.: \"The study on pad of AlN multil...   \nEP-2387988-B1       ANONYMOUS: \"Technical Data Sheet ACULYN(TM) 28...   \nEP-2387988-B1       ANONYMOUS: \"Technical Data Sheet ACULYN(TM) 33...   \nEP-2443469-B1       HIROYUKI OHSAKI ET AL: \"Characteristics of Res...   \nEP-2443469-B1       HORI T ET AL: \"Study of kV Class Current Limit...   \nEP-2464636-B1       KURT SCHANK ET AL: \"Eine einstufige Synthese d...   \nEP-2464636-B1       REDDY S H K ET AL: \"Anodic oxidations of elect...   \nEP-2615375-B1       ANONYMOUS: \"Oxygen sensor - Wikipedia, the fre...   \nEP-2876113-B1       KOZLOVSKAYA M M ET AL: \"A comparative study of...   \n\n                                                     doi  \npublication_number                                        \nEP-1482288-B1                           10.1117/12.60609  \nEP-3134253-A4                                        NaN  \nEP-1811026-B1                                        NaN  \nEP-1901235-B1                                        NaN  \nEP-2097241-B1         10.1016/J.JEURCERAMSOC.2005.06.029  \nEP-2280048-B1                                        NaN  \nEP-2304028-B1           10.1111/J.1556-4029.2009.01013.X  \nEP-2310520-B1                  10.1007/S00253-007-1117-3  \nEP-2334021-B1                    10.1109/TSP.2007.907888  \nEP-2737071-B1                                        NaN  \nEP-2858150-B1               10.1016/0022-3697(83)90089-6  \nEP-2864768-B1                  10.1007/s10921-011-0120-x  \nEP-2958011-B1                                        NaN  \nEP-2992506-B1                10.1016/J.MEDIA.2011.08.004  \nEP-2992528-B1                                        NaN  \nEP-3035957-B1                                        NaN  \nEP-3079499-B1                 10.1016/j.cupe.2003.09.007  \nEP-2665278-A3                                        NaN  \nEP-2860899-A4                                        NaN  \nEP-3146321-A4       10.1146/ANNUREV-ANCHEM-071213-020155  \nEP-2188852-B1                       10.1557/PROC-167-215  \nEP-2188852-B1                  10.1109/EPTC.2003.1298755  \nEP-2387988-B1                                        NaN  \nEP-2387988-B1                                        NaN  \nEP-2443469-B1                                        NaN  \nEP-2443469-B1                   10.1109/TASC.2007.898449  \nEP-2464636-B1                   10.1002/cber.19691020110  \nEP-2464636-B1              10.1016/S0040-4020(01)00358-1  \nEP-2615375-B1                                        NaN  \nEP-2876113-B1                    10.1023/A:1010441409246  ",
      "text/html": "<div>\n<style scoped>\n    .dataframe tbody tr th:only-of-type {\n        vertical-align: middle;\n    }\n\n    .dataframe tbody tr th {\n        vertical-align: top;\n    }\n\n    .dataframe thead th {\n        text-align: right;\n    }\n</style>\n<table border=\"1\" class=\"dataframe\">\n  <thead>\n    <tr style=\"text-align: right;\">\n      <th></th>\n      <th>npl_text</th>\n      <th>doi</th>\n    </tr>\n    <tr>\n      <th>publication_number</th>\n      <th></th>\n      <th></th>\n    </tr>\n  </thead>\n  <tbody>\n    <tr>\n      <th>EP-1482288-B1</th>\n      <td>HILARY E SNELL ET AL: \"Fourier Transform Fabry...</td>\n      <td>10.1117/12.60609</td>\n    </tr>\n    <tr>\n      <th>EP-3134253-A4</th>\n      <td>ROBERT MACCURDY ET AL: \"Hybrid printing of pho...</td>\n      <td>NaN</td>\n    </tr>\n    <tr>\n      <th>EP-1811026-B1</th>\n      <td>Technical Bulletin; pCI and pSI Mammalian Expr...</td>\n      <td>NaN</td>\n    </tr>\n    <tr>\n      <th>EP-1901235-B1</th>\n      <td>VERGEEST J ET AL: \"Free-form surface copy and ...</td>\n      <td>NaN</td>\n    </tr>\n    <tr>\n      <th>EP-2097241-B1</th>\n      <td>BAETEN F ET AL: \"Barium titanate characterizat...</td>\n      <td>10.1016/J.JEURCERAMSOC.2005.06.029</td>\n    </tr>\n    <tr>\n      <th>EP-2280048-B1</th>\n      <td>ULRICH JAHN: \"Decandisäure\", RÖMPP ONLINE 4.0,...</td>\n      <td>NaN</td>\n    </tr>\n    <tr>\n      <th>EP-2304028-B1</th>\n      <td>BREVNOV MAXIM G ET AL: \"Developmental Validati...</td>\n      <td>10.1111/J.1556-4029.2009.01013.X</td>\n    </tr>\n    <tr>\n      <th>EP-2310520-B1</th>\n      <td>BING FENG ET AL: \"Purification, characterizati...</td>\n      <td>10.1007/S00253-007-1117-3</td>\n    </tr>\n    <tr>\n      <th>EP-2334021-B1</th>\n      <td>CARLOS MOSQUERA ET AL: \"Non-Data-Aided Symbol ...</td>\n      <td>10.1109/TSP.2007.907888</td>\n    </tr>\n    <tr>\n      <th>EP-2737071-B1</th>\n      <td>GALIBERT L ET AL: \"Baculovirus deleted for chi...</td>\n      <td>NaN</td>\n    </tr>\n    <tr>\n      <th>EP-2858150-B1</th>\n      <td>TANAKA K ET AL: \"The electronic structures of ...</td>\n      <td>10.1016/0022-3697(83)90089-6</td>\n    </tr>\n    <tr>\n      <th>EP-2864768-B1</th>\n      <td>SAM FLETCHER ET AL: \"Detection of Axial Cracks...</td>\n      <td>10.1007/s10921-011-0120-x</td>\n    </tr>\n    <tr>\n      <th>EP-2958011-B1</th>\n      <td>ANDREW SONG: \"Introducing Login Approvals\", 12...</td>\n      <td>NaN</td>\n    </tr>\n    <tr>\n      <th>EP-2992506-B1</th>\n      <td>SHAOTING ZHANG ET AL: \"Towards robust and effe...</td>\n      <td>10.1016/J.MEDIA.2011.08.004</td>\n    </tr>\n    <tr>\n      <th>EP-2992528-B1</th>\n      <td>SAMIR MOHAMED: \"Waveform Coding\", 8 January 20...</td>\n      <td>NaN</td>\n    </tr>\n    <tr>\n      <th>EP-3035957-B1</th>\n      <td>ANOMYNOUS: \"Minutes of the meeting of the IAP ...</td>\n      <td>NaN</td>\n    </tr>\n    <tr>\n      <th>EP-3079499-B1</th>\n      <td>MARTINE S ALLES ET AL: \"Current trends in the ...</td>\n      <td>10.1016/j.cupe.2003.09.007</td>\n    </tr>\n    <tr>\n      <th>EP-2665278-A3</th>\n      <td>\"Photoshop Elements 3 THE MISSING MANUAL\", 31 ...</td>\n      <td>NaN</td>\n    </tr>\n    <tr>\n      <th>EP-2860899-A4</th>\n      <td>ERICSSON ET AL: \"RI and PMI sharing between mu...</td>\n      <td>NaN</td>\n    </tr>\n    <tr>\n      <th>EP-3146321-A4</th>\n      <td>SLOUKA ET AL: \"Microfluidic Systems with lon-S...</td>\n      <td>10.1146/ANNUREV-ANCHEM-071213-020155</td>\n    </tr>\n    <tr>\n      <th>EP-2188852-B1</th>\n      <td>PROHASKA; MILLER: \"Aluminum Nitride: A Review ...</td>\n      <td>10.1557/PROC-167-215</td>\n    </tr>\n    <tr>\n      <th>EP-2188852-B1</th>\n      <td>YONGDA ET AL.: \"The study on pad of AlN multil...</td>\n      <td>10.1109/EPTC.2003.1298755</td>\n    </tr>\n    <tr>\n      <th>EP-2387988-B1</th>\n      <td>ANONYMOUS: \"Technical Data Sheet ACULYN(TM) 28...</td>\n      <td>NaN</td>\n    </tr>\n    <tr>\n      <th>EP-2387988-B1</th>\n      <td>ANONYMOUS: \"Technical Data Sheet ACULYN(TM) 33...</td>\n      <td>NaN</td>\n    </tr>\n    <tr>\n      <th>EP-2443469-B1</th>\n      <td>HIROYUKI OHSAKI ET AL: \"Characteristics of Res...</td>\n      <td>NaN</td>\n    </tr>\n    <tr>\n      <th>EP-2443469-B1</th>\n      <td>HORI T ET AL: \"Study of kV Class Current Limit...</td>\n      <td>10.1109/TASC.2007.898449</td>\n    </tr>\n    <tr>\n      <th>EP-2464636-B1</th>\n      <td>KURT SCHANK ET AL: \"Eine einstufige Synthese d...</td>\n      <td>10.1002/cber.19691020110</td>\n    </tr>\n    <tr>\n      <th>EP-2464636-B1</th>\n      <td>REDDY S H K ET AL: \"Anodic oxidations of elect...</td>\n      <td>10.1016/S0040-4020(01)00358-1</td>\n    </tr>\n    <tr>\n      <th>EP-2615375-B1</th>\n      <td>ANONYMOUS: \"Oxygen sensor - Wikipedia, the fre...</td>\n      <td>NaN</td>\n    </tr>\n    <tr>\n      <th>EP-2876113-B1</th>\n      <td>KOZLOVSKAYA M M ET AL: \"A comparative study of...</td>\n      <td>10.1023/A:1010441409246</td>\n    </tr>\n  </tbody>\n</table>\n</div>"
     },
     "execution_count": 14,
     "metadata": {},
     "output_type": "execute_result"
    }
   ],
   "source": [
    "patents_clean[['npl_text', 'doi']].head(30)"
   ],
   "metadata": {
    "collapsed": false,
    "pycharm": {
     "name": "#%%\n"
    }
   }
  },
  {
   "cell_type": "markdown",
   "source": [
    "Still todo: ISSN, year, journal title, URL"
   ],
   "metadata": {
    "collapsed": false
   }
  }
 ],
 "metadata": {
  "kernelspec": {
   "display_name": "Python [conda env:root]",
   "language": "python",
   "name": "conda-root-py"
  },
  "language_info": {
   "codemirror_mode": {
    "name": "ipython",
    "version": 3
   },
   "file_extension": ".py",
   "mimetype": "text/x-python",
   "name": "python",
   "nbconvert_exporter": "python",
   "pygments_lexer": "ipython3",
   "version": "3.7.6"
  }
 },
 "nbformat": 4,
 "nbformat_minor": 1
}